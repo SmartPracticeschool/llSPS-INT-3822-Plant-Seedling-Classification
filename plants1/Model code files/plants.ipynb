{
 "cells": [
  {
   "cell_type": "code",
   "execution_count": 1,
   "metadata": {},
   "outputs": [
    {
     "name": "stderr",
     "output_type": "stream",
     "text": [
      "Using TensorFlow backend.\n"
     ]
    }
   ],
   "source": [
    "from keras.preprocessing.image import ImageDataGenerator"
   ]
  },
  {
   "cell_type": "code",
   "execution_count": 2,
   "metadata": {},
   "outputs": [],
   "source": [
    "train_datagen= ImageDataGenerator(rescale=1./255,shear_range=0.2,horizontal_flip=True)\n",
    "test_datagen= ImageDataGenerator(rescale=1./255)"
   ]
  },
  {
   "cell_type": "code",
   "execution_count": 3,
   "metadata": {},
   "outputs": [],
   "source": [
    "train_datagen= ImageDataGenerator(rescale=1./255,shear_range=0.2,horizontal_flip=True)\n",
    "test_datagen= ImageDataGenerator(rescale=1./255)"
   ]
  },
  {
   "cell_type": "code",
   "execution_count": 4,
   "metadata": {},
   "outputs": [
    {
     "name": "stdout",
     "output_type": "stream",
     "text": [
      "Found 446 images belonging to 4 classes.\n",
      "Found 106 images belonging to 4 classes.\n"
     ]
    }
   ],
   "source": [
    "x_train=train_datagen.flow_from_directory(r'D:\\plant seedling 1\\train',target_size=(64,64),batch_size=32,class_mode='categorical')\n",
    "x_test=test_datagen.flow_from_directory(r'D:\\plant seedling 1\\test',target_size=(64,64),batch_size=32,class_mode='categorical')"
   ]
  },
  {
   "cell_type": "code",
   "execution_count": 5,
   "metadata": {},
   "outputs": [
    {
     "name": "stdout",
     "output_type": "stream",
     "text": [
      "{'Black-grass': 0, 'Common Wheat': 1, 'mayweed': 2, 'small flowered cranesbill': 3}\n"
     ]
    }
   ],
   "source": [
    "print(x_train.class_indices)"
   ]
  },
  {
   "cell_type": "code",
   "execution_count": 6,
   "metadata": {},
   "outputs": [],
   "source": [
    "from tensorflow.keras.models import Sequential #for initializing\n",
    "from tensorflow.keras.layers import Dense #adding layers\n",
    "from tensorflow.keras.layers import Conv2D #Convolution layer\n",
    "from tensorflow.keras.layers import MaxPooling2D #max pooling\n",
    "from tensorflow.keras.layers import Flatten"
   ]
  },
  {
   "cell_type": "code",
   "execution_count": 7,
   "metadata": {},
   "outputs": [],
   "source": [
    "model=Sequential()"
   ]
  },
  {
   "cell_type": "code",
   "execution_count": 8,
   "metadata": {},
   "outputs": [],
   "source": [
    "model.add(Conv2D(32,3,3,input_shape=(64,64,3),activation='relu'))"
   ]
  },
  {
   "cell_type": "code",
   "execution_count": 9,
   "metadata": {},
   "outputs": [],
   "source": [
    "model.add(MaxPooling2D(pool_size=(2,2)))"
   ]
  },
  {
   "cell_type": "code",
   "execution_count": 10,
   "metadata": {},
   "outputs": [],
   "source": [
    "model.add(Flatten()) #converts n dimension to 1 Dimension"
   ]
  },
  {
   "cell_type": "code",
   "execution_count": 11,
   "metadata": {
    "scrolled": true
   },
   "outputs": [
    {
     "name": "stdout",
     "output_type": "stream",
     "text": [
      "Model: \"sequential\"\n",
      "_________________________________________________________________\n",
      "Layer (type)                 Output Shape              Param #   \n",
      "=================================================================\n",
      "conv2d (Conv2D)              (None, 21, 21, 32)        896       \n",
      "_________________________________________________________________\n",
      "max_pooling2d (MaxPooling2D) (None, 10, 10, 32)        0         \n",
      "_________________________________________________________________\n",
      "flatten (Flatten)            (None, 3200)              0         \n",
      "=================================================================\n",
      "Total params: 896\n",
      "Trainable params: 896\n",
      "Non-trainable params: 0\n",
      "_________________________________________________________________\n"
     ]
    }
   ],
   "source": [
    "model.summary()"
   ]
  },
  {
   "cell_type": "code",
   "execution_count": 12,
   "metadata": {},
   "outputs": [],
   "source": [
    "model.add(Dense(units=128,activation='relu',kernel_initializer='random_uniform'))"
   ]
  },
  {
   "cell_type": "code",
   "execution_count": 13,
   "metadata": {},
   "outputs": [],
   "source": [
    "model.add(Dense(units=28,activation='relu',kernel_initializer='random_uniform'))"
   ]
  },
  {
   "cell_type": "code",
   "execution_count": 14,
   "metadata": {},
   "outputs": [],
   "source": [
    "model.add(Dense(units=4,activation='sigmoid',kernel_initializer='random_uniform'))"
   ]
  },
  {
   "cell_type": "code",
   "execution_count": 15,
   "metadata": {},
   "outputs": [
    {
     "name": "stdout",
     "output_type": "stream",
     "text": [
      "Model: \"sequential\"\n",
      "_________________________________________________________________\n",
      "Layer (type)                 Output Shape              Param #   \n",
      "=================================================================\n",
      "conv2d (Conv2D)              (None, 21, 21, 32)        896       \n",
      "_________________________________________________________________\n",
      "max_pooling2d (MaxPooling2D) (None, 10, 10, 32)        0         \n",
      "_________________________________________________________________\n",
      "flatten (Flatten)            (None, 3200)              0         \n",
      "_________________________________________________________________\n",
      "dense (Dense)                (None, 128)               409728    \n",
      "_________________________________________________________________\n",
      "dense_1 (Dense)              (None, 28)                3612      \n",
      "_________________________________________________________________\n",
      "dense_2 (Dense)              (None, 4)                 116       \n",
      "=================================================================\n",
      "Total params: 414,352\n",
      "Trainable params: 414,352\n",
      "Non-trainable params: 0\n",
      "_________________________________________________________________\n"
     ]
    }
   ],
   "source": [
    "model.summary()"
   ]
  },
  {
   "cell_type": "code",
   "execution_count": 16,
   "metadata": {},
   "outputs": [],
   "source": [
    "model.compile(optimizer='adam',loss='categorical_crossentropy',metrics=['accuracy'])"
   ]
  },
  {
   "cell_type": "code",
   "execution_count": 20,
   "metadata": {
    "scrolled": false
   },
   "outputs": [
    {
     "name": "stdout",
     "output_type": "stream",
     "text": [
      "WARNING:tensorflow:sample_weight modes were coerced from\n",
      "  ...\n",
      "    to  \n",
      "  ['...']\n",
      "WARNING:tensorflow:sample_weight modes were coerced from\n",
      "  ...\n",
      "    to  \n",
      "  ['...']\n",
      "Train for 13 steps, validate for 3 steps\n",
      "Epoch 1/40\n",
      "13/13 [==============================] - 9s 697ms/step - loss: 1.3185 - accuracy: 0.3285 - val_loss: 1.3002 - val_accuracy: 0.4271\n",
      "Epoch 2/40\n",
      "13/13 [==============================] - 10s 749ms/step - loss: 1.1922 - accuracy: 0.4662 - val_loss: 1.1756 - val_accuracy: 0.4375\n",
      "Epoch 3/40\n",
      "13/13 [==============================] - 9s 718ms/step - loss: 1.0022 - accuracy: 0.5435 - val_loss: 1.0241 - val_accuracy: 0.5104\n",
      "Epoch 4/40\n",
      "13/13 [==============================] - 9s 714ms/step - loss: 0.7777 - accuracy: 0.6546 - val_loss: 0.8992 - val_accuracy: 0.6354\n",
      "Epoch 5/40\n",
      "13/13 [==============================] - 10s 803ms/step - loss: 0.6844 - accuracy: 0.7198 - val_loss: 0.9669 - val_accuracy: 0.5417\n",
      "Epoch 6/40\n",
      "13/13 [==============================] - 9s 711ms/step - loss: 0.6447 - accuracy: 0.7415 - val_loss: 0.8311 - val_accuracy: 0.6667\n",
      "Epoch 7/40\n",
      "13/13 [==============================] - 9s 718ms/step - loss: 0.6309 - accuracy: 0.7077 - val_loss: 0.8011 - val_accuracy: 0.7604\n",
      "Epoch 8/40\n",
      "13/13 [==============================] - 9s 724ms/step - loss: 0.5764 - accuracy: 0.7971 - val_loss: 0.8690 - val_accuracy: 0.6042\n",
      "Epoch 9/40\n",
      "13/13 [==============================] - 9s 721ms/step - loss: 0.5699 - accuracy: 0.7754 - val_loss: 0.7438 - val_accuracy: 0.7708\n",
      "Epoch 10/40\n",
      "13/13 [==============================] - 11s 882ms/step - loss: 0.5025 - accuracy: 0.8043 - val_loss: 0.7325 - val_accuracy: 0.7812\n",
      "Epoch 11/40\n",
      "13/13 [==============================] - 14s 1s/step - loss: 0.4409 - accuracy: 0.8599 - val_loss: 0.7316 - val_accuracy: 0.7500\n",
      "Epoch 12/40\n",
      "13/13 [==============================] - 11s 853ms/step - loss: 0.4469 - accuracy: 0.8430 - val_loss: 0.6808 - val_accuracy: 0.7917\n",
      "Epoch 13/40\n",
      "13/13 [==============================] - 10s 734ms/step - loss: 0.4184 - accuracy: 0.8696 - val_loss: 0.6788 - val_accuracy: 0.7917\n",
      "Epoch 14/40\n",
      "13/13 [==============================] - 10s 749ms/step - loss: 0.3808 - accuracy: 0.8744 - val_loss: 0.6234 - val_accuracy: 0.8021\n",
      "Epoch 15/40\n",
      "13/13 [==============================] - 10s 792ms/step - loss: 0.3299 - accuracy: 0.8937 - val_loss: 0.6368 - val_accuracy: 0.8333\n",
      "Epoch 16/40\n",
      "13/13 [==============================] - 9s 715ms/step - loss: 0.3339 - accuracy: 0.8841 - val_loss: 0.6499 - val_accuracy: 0.7917\n",
      "Epoch 17/40\n",
      "13/13 [==============================] - 9s 717ms/step - loss: 0.3361 - accuracy: 0.9010 - val_loss: 0.5704 - val_accuracy: 0.8333\n",
      "Epoch 18/40\n",
      "13/13 [==============================] - 9s 716ms/step - loss: 0.3207 - accuracy: 0.8889 - val_loss: 0.7505 - val_accuracy: 0.7396\n",
      "Epoch 19/40\n",
      "13/13 [==============================] - 10s 737ms/step - loss: 0.3915 - accuracy: 0.8647 - val_loss: 0.5958 - val_accuracy: 0.8125\n",
      "Epoch 20/40\n",
      "13/13 [==============================] - 10s 738ms/step - loss: 0.2748 - accuracy: 0.9179 - val_loss: 0.5640 - val_accuracy: 0.8333\n",
      "Epoch 21/40\n",
      "13/13 [==============================] - 9s 726ms/step - loss: 0.2675 - accuracy: 0.9183 - val_loss: 0.5437 - val_accuracy: 0.8229\n",
      "Epoch 22/40\n",
      "13/13 [==============================] - 10s 779ms/step - loss: 0.2442 - accuracy: 0.9300 - val_loss: 0.5714 - val_accuracy: 0.8229\n",
      "Epoch 23/40\n",
      "13/13 [==============================] - 9s 724ms/step - loss: 0.2764 - accuracy: 0.9058 - val_loss: 0.6367 - val_accuracy: 0.7812\n",
      "Epoch 24/40\n",
      "13/13 [==============================] - 10s 745ms/step - loss: 0.2310 - accuracy: 0.9375 - val_loss: 0.5498 - val_accuracy: 0.8333\n",
      "Epoch 25/40\n",
      "13/13 [==============================] - 10s 788ms/step - loss: 0.2282 - accuracy: 0.9348 - val_loss: 0.5747 - val_accuracy: 0.8125\n",
      "Epoch 26/40\n",
      "13/13 [==============================] - 10s 747ms/step - loss: 0.2340 - accuracy: 0.9303 - val_loss: 0.5552 - val_accuracy: 0.8438\n",
      "Epoch 27/40\n",
      "13/13 [==============================] - 9s 716ms/step - loss: 0.2213 - accuracy: 0.9251 - val_loss: 0.5569 - val_accuracy: 0.8125\n",
      "Epoch 28/40\n",
      "13/13 [==============================] - 12s 939ms/step - loss: 0.2096 - accuracy: 0.9348 - val_loss: 0.4753 - val_accuracy: 0.8542\n",
      "Epoch 29/40\n",
      "13/13 [==============================] - 12s 909ms/step - loss: 0.1640 - accuracy: 0.9543 - val_loss: 0.4896 - val_accuracy: 0.8646\n",
      "Epoch 30/40\n",
      "13/13 [==============================] - 9s 712ms/step - loss: 0.1645 - accuracy: 0.9469 - val_loss: 0.4960 - val_accuracy: 0.8750\n",
      "Epoch 31/40\n",
      "13/13 [==============================] - 9s 713ms/step - loss: 0.1758 - accuracy: 0.9444 - val_loss: 0.4706 - val_accuracy: 0.8333\n",
      "Epoch 32/40\n",
      "13/13 [==============================] - 12s 922ms/step - loss: 0.1511 - accuracy: 0.9493 - val_loss: 0.4386 - val_accuracy: 0.8750\n",
      "Epoch 33/40\n",
      "13/13 [==============================] - 10s 774ms/step - loss: 0.1277 - accuracy: 0.9662 - val_loss: 0.4367 - val_accuracy: 0.8438\n",
      "Epoch 34/40\n",
      "13/13 [==============================] - 13s 985ms/step - loss: 0.1235 - accuracy: 0.9662 - val_loss: 0.5670 - val_accuracy: 0.7917\n",
      "Epoch 35/40\n",
      "13/13 [==============================] - 9s 725ms/step - loss: 0.1311 - accuracy: 0.9686 - val_loss: 0.4436 - val_accuracy: 0.8333\n",
      "Epoch 36/40\n",
      "13/13 [==============================] - 9s 717ms/step - loss: 0.1026 - accuracy: 0.9734 - val_loss: 0.4179 - val_accuracy: 0.8750\n",
      "Epoch 37/40\n",
      "13/13 [==============================] - 9s 725ms/step - loss: 0.1167 - accuracy: 0.9662 - val_loss: 0.4164 - val_accuracy: 0.8333\n",
      "Epoch 38/40\n",
      "13/13 [==============================] - 9s 721ms/step - loss: 0.1239 - accuracy: 0.9614 - val_loss: 0.5961 - val_accuracy: 0.8333\n",
      "Epoch 39/40\n",
      "13/13 [==============================] - 12s 915ms/step - loss: 0.1300 - accuracy: 0.9662 - val_loss: 0.5176 - val_accuracy: 0.8542\n",
      "Epoch 40/40\n",
      "13/13 [==============================] - 10s 754ms/step - loss: 0.0933 - accuracy: 0.9807 - val_loss: 0.4513 - val_accuracy: 0.8333\n"
     ]
    },
    {
     "data": {
      "text/plain": [
       "<tensorflow.python.keras.callbacks.History at 0x102b5348>"
      ]
     },
     "execution_count": 20,
     "metadata": {},
     "output_type": "execute_result"
    }
   ],
   "source": [
    "model.fit(x_train,steps_per_epoch=446//32,validation_data=x_test,epochs=40,validation_steps=106//32)"
   ]
  },
  {
   "cell_type": "code",
   "execution_count": 21,
   "metadata": {},
   "outputs": [],
   "source": [
    "model.save('testmodel4.h5')"
   ]
  },
  {
   "cell_type": "raw",
   "metadata": {},
   "source": [
    "model.compile(optimizer='adam',loss='categorical_crossentropy',metrics=['accuracy'])"
   ]
  },
  {
   "cell_type": "code",
   "execution_count": null,
   "metadata": {},
   "outputs": [],
   "source": []
  }
 ],
 "metadata": {
  "kernelspec": {
   "display_name": "Python 3",
   "language": "python",
   "name": "python3"
  },
  "language_info": {
   "codemirror_mode": {
    "name": "ipython",
    "version": 3
   },
   "file_extension": ".py",
   "mimetype": "text/x-python",
   "name": "python",
   "nbconvert_exporter": "python",
   "pygments_lexer": "ipython3",
   "version": "3.7.9"
  }
 },
 "nbformat": 4,
 "nbformat_minor": 4
}
